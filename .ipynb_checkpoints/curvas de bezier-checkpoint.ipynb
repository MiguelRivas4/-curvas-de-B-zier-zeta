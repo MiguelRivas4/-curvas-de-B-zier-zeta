{
 "cells": [
  {
   "cell_type": "markdown",
   "id": "cc89c93e",
   "metadata": {},
   "source": [
    "### Curvas de berzier"
   ]
  },
  {
   "cell_type": "code",
   "execution_count": null,
   "id": "950c15c4",
   "metadata": {},
   "outputs": [],
   "source": []
  }
 ],
 "metadata": {},
 "nbformat": 4,
 "nbformat_minor": 5
}
