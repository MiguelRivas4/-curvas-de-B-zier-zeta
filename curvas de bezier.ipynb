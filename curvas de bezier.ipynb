{
 "cells": [
  {
   "cell_type": "markdown",
   "id": "cc89c93e",
   "metadata": {},
   "source": [
    "  # <p style='text-align: center;'> 👨🏻‍🏫  CURVAS PARAMETRICAS , CURVAS DE BEZIER 👨🏻‍🏫 </p>"
   ]
  },
  {
   "cell_type": "markdown",
   "id": "c463879b",
   "metadata": {},
   "source": [
    "# <p style='text-align: center;'> ✍🏼  TEORIA ✍🏼 </p>"
   ]
  },
  {
   "cell_type": "markdown",
   "id": "ada5d0e2",
   "metadata": {},
   "source": [
    "Las curvas de Bézier imponen como restricciones el valor de los puntos extremos y determinan de forma indirecta el valor de las tangentes a dichos puntos especificando las coordenadas de dos puntos intermedios adicionales que no pertenecen a la curva."
   ]
  },
  {
   "cell_type": "markdown",
   "id": "2e1ba83d",
   "metadata": {},
   "source": [
    " Esta regla de denominación fue inventada por  ingeniero francés Pierre Bézier. Sin embargo, la fórmula matemática más primitiva en la que se basa la curva de Bezier es el polinomio de Bernstein, que era ampliamente conocido en el círculo de las matemáticas en 1912. Comprenda simplemente que los polinomios de Bernstein se pueden usar para demostrar que todas las funciones continuas en el intervalo. $$[a, b]$$ pueden aproximarse mediante polinomios, y la convergencia es muy fuerte, es decir, convergencia uniforme. Para hacerlo más simple, es una función continua. Puedes escribirla en forma de suma de varios polinomios de Bernstein, y con: $$n→ ∞ $$  este polinomio convergerá uniformemente a la función original. Esta es la aproximación de Bernstein naturaleza."
   ]
  },
  {
   "cell_type": "markdown",
   "id": "e0b8d038",
   "metadata": {},
   "source": [
    "# <p style='text-align: center;'>👩🏾‍🔧 PASOS: 👩🏾‍🔧</p>"
   ]
  },
  {
   "cell_type": "markdown",
   "id": "365a90d1",
   "metadata": {},
   "source": [
    "<img src=\"https://programmerclick.com/images/274/de77f295a486fd3becbc02aad89752a2.png\" alt=\"drawing\" width=\"200\" align=\"right\"/>  <p align=\"center\">  Paso 1: Seleccione 3 puntos de diferentes líneas en el plano y conéctelos con segmentos de línea en secuencia </P>\n"
   ]
  },
  {
   "cell_type": "markdown",
   "id": "608f9300",
   "metadata": {},
   "source": [
    " <img src=\"https://programmerclick.com/images/499/fa704e43a79f55a0d6f43196b84e67db.png\" width=\"200\" align=\"right\"/> Paso 2: Encuentre el punto D y el punto E en los segmentos de línea AB y BC para que AD/AB = BE/BC.\n"
   ]
  },
  {
   "cell_type": "markdown",
   "id": "6abc2f35",
   "metadata": {},
   "source": [
    "<img src=\"https://programmerclick.com/images/891/bcdd1f0d1ca7f56fc5883760b4c1d183.png\" width=\"200\" align=\"right\" />\n",
    "Paso 3: Conecte DE, encuentre el punto F en DE, el punto F debe cumplir:DF/DE = AD/AB = BE/BC\n"
   ]
  },
  {
   "cell_type": "markdown",
   "id": "5332a1e4",
   "metadata": {},
   "source": [
    "Paso 4: ¡Lo más importante !Encuentre todos los puntos F según el segmento de línea DE y la fórmula de cálculo, Recuerde todos los puntos F y luego conecte estos puntos. Entonces, ¿cuáles son las reglas de conexión? Tome la imagen de arriba como ejemplo, el primer punto de conexión es A-F, y el segundo punto de conexión es A-F1 (este F1 debe cumplirDF1/DE = AD/AB = BE/BC) Y así sucesivamente, hasta que se conecte el último punto C, la siguiente última animación para profundizar la comprensión:\n",
    "![Esta es una imagen de ejemplo](https://programmerclick.com/images/806/7510338f104eb3ab9ac6db842d752ed6.png)"
   ]
  },
  {
   "cell_type": "markdown",
   "id": "b1244fce",
   "metadata": {},
   "source": [
    "Como ya habiamos mencionado sobre los polinomiales de Bézier de grado \"n\" se utilizan los polinomios\n",
    "de Bernstein de grado $n$ como:\n",
    "$$ B_{i} ^ n (t) =\\binom{i}{n} *t^i*( 1- t)^{n-1} $$\n",
    "\n",
    "\n",
    "\n",
    "$$ \\binom{i}{n}= \\left\\{\n",
    "    \\begin{array}\\\\\n",
    "      \\frac{ n!}{i!(n-1)!} & \\mbox{si 0<=i<=1 }  \\\\\n",
    "        0 & \\mbox{es otro caso  } \n",
    "    \\end{array}\n",
    "\\right.  $$\n",
    "\n",
    "\n",
    "\n",
    "quedando la curva de Bézier de grado \"n\" expresada de la siguiente forma: \n",
    "\n",
    "\n",
    "\n",
    "$$ \\\n",
    "Q^n (t)= \\sum_{i=0}^{n} P_{i} B_{i}^n(t) \n",
    "\\\n",
    "$$\n",
    "\n",
    "\n",
    "donde los $ Pi $  son los $ n+1 $ puntos a interpolar y $B_{i} ^ n (t)$ son los polinomios de Bernstein\n",
    "de grado \"n \".\n",
    "Al examinar los 4 polinomios de Bernstein utilizados en la definición de las curvas de\n",
    "Bézier cúbicas se aprecia que su suma para cualquier valor del parámetro t es la unidad\n",
    "y, además, que todas las polinomiales toman valores comprendidos en el margen\n",
    "$$ O <=t <= 1 $$ Por tanto, Q(t) resulta ser la media ponderada de los cuatro puntos de\n",
    "control (caso cúbico).\n",
    "En general, cualquier curva de Bézier, sea cual sea el grado de la misma, se define por\n",
    "la suma ponderada de los puntos de control que la diseñan. Esto significa que cada\n",
    "segmento de curva queda definido dentro del espacio convexo de los puntos de control.\n",
    "En el diseño de curvas 2D el espacio convexo es el polígono convexo formado a partir\n",
    "de la unión mediante rectas de los puntos de control. Para curvas 3D el espacio convexo\n",
    "es el poliedro generado por los puntos de control. El conocimiento de este espacio\n",
    "convexo, en el interior del cual queda definida la curva, facilita el estudio de\n",
    "intersecciones entre objetos y la visualización de los mismos por pantalla.\n",
    "Las curvas de Bézier resultan ser las más estables de entre todas las bases polinomiales\n",
    "corrientemente usadas en sistemas CAD. Sin embargo, si la geometría del objeto es muy\n",
    "compleja, se requiere una polinomial de Bézier de un grado tan elevado que la hace\n",
    "intratable (grados de la curva superiores a diez ya no son aconsejables). La solución es\n",
    "diseñar la curva a trozos, mediante la composición de varias curvas de Bézier de grado\n",
    "menor, habitualmente cúbicas."
   ]
  },
  {
   "cell_type": "markdown",
   "id": "ae9e7420",
   "metadata": {},
   "source": [
    " # <p style='text-align: center;'> ✍🏼 POLINOMIO DE BERNSTEIN ✍🏼</p>"
   ]
  },
  {
   "cell_type": "markdown",
   "id": "d09903d0",
   "metadata": {},
   "source": [
    "Para representar curvas polinomicas, se usa en base de polinomios de bernstein (coeficientes binomiales)\n",
    "$$\\{  B_{0} ^ n (t),......, B_{n} ^ n (t)    \\} $$\n",
    "$$   B_{i} ^ n (t) =  \\binom{n}{i}*t^i(1-t)^{n-1} \\ $$\n",
    "\n",
    "\n",
    "- Aparecen en la demostracion del teorema de weierstrass (aproximacion uniforme de funciones continuas por polinomios )\n",
    "- Particion de la unidad $$ \\\n",
    "\\sum_{i=o}^{n} (t)= (t(1-t))^n =1 \n",
    "\\ $$\n",
    "- Origen $$ B_{0} ^ n (0) =1 , B_{i} ^ n (0) =0, i=1 ,..., n.  $$\n",
    "- Final $$  B_{n} ^ n (1) =0, B_{i} ^ n (1) =0, i=0,...,n-1  $$"
   ]
  },
  {
   "cell_type": "markdown",
   "id": "6e49998a",
   "metadata": {},
   "source": [
    " # <p style='text-align: center;'> 👨🏻‍💻  CODIGO 👨🏻‍💻 </p>"
   ]
  },
  {
   "cell_type": "code",
   "execution_count": null,
   "id": "12d36a1c",
   "metadata": {},
   "outputs": [],
   "source": [
    "#Imports math para usar factoriales, numpy para usar arreglos calcular su producto punto y matplotlib.pyplot para graficar\n",
    "#las curvas.\n",
    "from sympy import * \n",
    "import math\n",
    "import numpy as np\n",
    "import matplotlib.pyplot as plt"
   ]
  },
  {
   "cell_type": "code",
   "execution_count": null,
   "id": "1ee9e972",
   "metadata": {},
   "outputs": [],
   "source": [
    "#Se calcula la combinacion sin repeticion de i con n.\n",
    "def combinacion(i, n):\n",
    "    return math.factorial(n) / float(\n",
    "        math.factorial(i) * math.factorial(n - i))"
   ]
  },
  {
   "cell_type": "code",
   "execution_count": null,
   "id": "41085481",
   "metadata": {},
   "outputs": [],
   "source": [
    "#Se calcula el polinomio de bernstein mediante su formula.\n",
    "def pol_bernstein(t, i, n):\n",
    "    return combinacion(i, n) * (t)**i * ((1-t)**(n-i))"
   ]
  },
  {
   "cell_type": "code",
   "execution_count": null,
   "id": "62e8a8d9",
   "metadata": {},
   "outputs": [],
   "source": [
    "#Se calcula el rango de puntos para la curva de bezier\n",
    "def curva_bezier(x, y, puntos, precision):\n",
    "    n = len(puntos)   #Tamaño del arreglo de tuplas de los puntos de control\n",
    "    \n",
    "    t = np.linspace(0.0, 1.0, precision)   #Se crea un vector que contiene una cantidad de numeros especificada para una mejor                                   #precision además, todas las polinomiales toman valores entre 0<=t<=1\n",
    "    \n",
    "    pBernstein = np.array([pol_bernstein(t,i, n-1) for i in range(0, n)])   #Se guarda en el arreglo pBernstein el polinomio\n",
    "    #print(\"Valores obtenidos del polinomio de bernstein\")                            #de bernstein obtenido de pol+bernstein\n",
    "    #print(pBernstein)\n",
    "    #print(\"-------------------------------------------------------------------------\")\n",
    "    \n",
    "    px = np.dot(x, pBernstein)   #Se hace producto punto de los arreglos x con el polinomio de bernstein \n",
    "    py = np.dot(y, pBernstein)   #Se hace producto punto de los arreglos y con el polinomio de bernstein \n",
    "    \n",
    "    return px, py   #Retorna los arreglos px y py"
   ]
  },
  {
   "cell_type": "code",
   "execution_count": null,
   "id": "2c788f5c",
   "metadata": {},
   "outputs": [],
   "source": [
    "#Aca se corre el programa.\n",
    "puntos = [(2,15),(1,22),(19,1),(1,32)]    #Se declara un arreglo de tuplas con las coordenadas o puntos de control de bazier\n",
    "x = [p[0] for p in puntos]              #Se guarda cada valor de la posicion 0(valores de x) de cada tupla en el arreglo puntos \n",
    "y = [p[1] for p in puntos]              #Se guarda cada valor de la posicion 1(valores de y) de cada tupla en el arreglo puntos\n",
    "#print(\"Valores de x,y\")\n",
    "#print(x,y)\n",
    "#print(\"-------------------------------------------------------------------------\")\n",
    "\n",
    "px, py = curva_bezier(x,y,puntos, precision=100)  #Se guarda en px y py cada valor del rango de puntos que seguira para la curva \n",
    "                                               #de bezier para ser graficada\n",
    "#print(\"Valores de px,py\")\n",
    "#print(px,py)\n",
    "#print(\"-------------------------------------------------------------------------\")\n",
    "    \n",
    "    \n",
    "plt.figure(figsize=(4, 7))    #Tamaño el plano para graficar\n",
    "plt.plot(px, py,\"b\")              #Con el rango de puntos px y py se dibuja la linea de la curva de bezier \n",
    "plt.plot(x, y, \"ro\")          #Se dibujan los puntos de control de la curva de bezier\n",
    "plt.plot(x, y, \"y--\")          #Se dibuja la linea de puntos que une los puntos de control\n",
    "for punto in range(len(puntos)): #Se identifica cada punto de control con su numero respectivo\n",
    "    plt.text(puntos[punto][0], puntos[punto][1], punto)\n",
    "\n",
    "plt.show() #Se muestra el grafico"
   ]
  },
  {
   "cell_type": "markdown",
   "id": "4940fef9",
   "metadata": {},
   "source": [
    "  # <p style='text-align: center;'> 📰 REFERENCIAS 📰</p>  "
   ]
  },
  {
   "cell_type": "markdown",
   "id": "b522720a",
   "metadata": {},
   "source": [
    "1. [pdf][https://www.tesisenred.net/bitstream/handle/10803/6941/TMVF1de.pdf?sequence=1&isAllowed=y]\n",
    "2. [articulo][https://programmerclick.com/article/18781435539/ ]\n",
    "3. [video][ https://www.youtube.com/watch?v=uZI4bY4uULo ]\n",
    "4. [Desmos][https://www.desmos.com/calculator/zxexonzypw?lang=es ]"
   ]
  },
  {
   "cell_type": "markdown",
   "id": "6028235d",
   "metadata": {},
   "source": []
  },
  {
   "cell_type": "code",
   "execution_count": null,
   "id": "61ab567c",
   "metadata": {},
   "outputs": [],
   "source": []
  },
  {
   "cell_type": "code",
   "execution_count": null,
   "id": "e4a48a8b",
   "metadata": {},
   "outputs": [],
   "source": []
  }
 ],
 "metadata": {},
 "nbformat": 4,
 "nbformat_minor": 5
}
