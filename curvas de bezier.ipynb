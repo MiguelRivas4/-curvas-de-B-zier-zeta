{
 "cells": [
  {
   "cell_type": "markdown",
   "id": "cc89c93e",
   "metadata": {},
   "source": [
    " # <p style='text-align: center;'> CURVAS DE BEZIER </p>"
   ]
  },
  {
   "cell_type": "markdown",
   "id": "ada5d0e2",
   "metadata": {},
   "source": [
    "Las curvas de Bézier imponen como restricciones el valor de los puntos extremos y determinan de forma indirecta el valor de las tangentes a dichos puntos especificando las coordenadas de dos puntos intermedios adicionales que no pertenecen a la curva."
   ]
  },
  {
   "cell_type": "markdown",
   "id": "2e1ba83d",
   "metadata": {},
   "source": [
    " Esta regla de denominación fue inventada por  ingeniero francés Pierre Bézier. Sin embargo, la fórmula matemática más primitiva en la que se basa la curva de Bezier es el polinomio de Bernstein, que era ampliamente conocido en el círculo de las matemáticas en 1912. Comprenda simplemente que los polinomios de Bernstein se pueden usar para demostrar que todas las funciones continuas en el intervalo [a, b] pueden aproximarse mediante polinomios, y la convergencia es muy fuerte, es decir, convergencia uniforme. Para hacerlo más simple, es una función continua. Puedes escribirla en forma de suma de varios polinomios de Bernstein, y con $$ n→ ∞ $$  este polinomio convergerá uniformemente a la función original. Esta es la aproximación de Bernstein naturaleza."
   ]
  },
  {
   "cell_type": "markdown",
   "id": "e0b8d038",
   "metadata": {},
   "source": [
    "## <p style='text-align: center;'>PASOS: </p>"
   ]
  },
  {
   "cell_type": "markdown",
   "id": "365a90d1",
   "metadata": {},
   "source": [
    "- Paso 1: Seleccione 3 puntos de diferentes líneas en el plano y conéctelos con segmentos de línea en secuencia\n",
    "\n",
    "<img src=\"https://programmerclick.com/images/274/de77f295a486fd3becbc02aad89752a2.png\" alt=\"drawing\" width=\"200\"/>\n"
   ]
  },
  {
   "cell_type": "markdown",
   "id": "608f9300",
   "metadata": {},
   "source": [
    "- Paso 2: Encuentre el punto D y el punto E en los segmentos de línea AB y BC para que AD/AB = BE/BC.\n",
    "<img src=\"https://programmerclick.com/images/499/fa704e43a79f55a0d6f43196b84e67db.png\" width=\"200\"/>"
   ]
  },
  {
   "cell_type": "markdown",
   "id": "6abc2f35",
   "metadata": {},
   "source": [
    "- Paso 3: Conecte DE, encuentre el punto F en DE, el punto F debe cumplir:DF/DE = AD/AB = BE/BC\n",
    "<img src=\"https://programmerclick.com/images/891/bcdd1f0d1ca7f56fc5883760b4c1d183.png\" width=\"200\"/>"
   ]
  },
  {
   "cell_type": "markdown",
   "id": "5332a1e4",
   "metadata": {},
   "source": [
    "- Paso 4: ¡Lo más importante!Encuentre todos los puntos F según el segmento de línea DE y la fórmula de cálculo, Recuerde todos los puntos F y luego conecte estos puntos. Entonces, ¿cuáles son las reglas de conexión? Tome la imagen de arriba como ejemplo, el primer punto de conexión es A-F, y el segundo punto de conexión es A-F1 (este F1 debe cumplirDF1/DE = AD/AB = BE/BC) Y así sucesivamente, hasta que se conecte el último punto C, la siguiente última animación para profundizar la comprensión:\n",
    "![Esta es una imagen de ejemplo](https://programmerclick.com/images/806/7510338f104eb3ab9ac6db842d752ed6.png)"
   ]
  },
  {
   "cell_type": "markdown",
   "id": "b1244fce",
   "metadata": {},
   "source": [
    "En la definición de las polinomiales de Bézier de grado \"n\" se utilizan los polinomios\n",
    "de Bernstein de grado $n$ como:\n",
    "$$ B ^ n (t) = \\frac{i}{n}*t^i*( 1- t)^{n-1} $$\n",
    "$$ \\binom{n}{k}= $$\n",
    "quedando la curva de Bézier de grado \"n\" expresada de la siguiente forma: \n",
    "\n",
    "\n",
    "\n",
    "$$ \\mathbf{Q^n(t)}= \\sum{i=1}^{n}w{i}f(x{i}) $$\n",
    "\n",
    "\n",
    "donde los $ P¡ $  son los $ n+1 $ puntos a interpolar y $B^n(t)$ son los polinomios de Bernstein\n",
    "de grado \"n \".\n",
    "Al examinar los 4 polinomios de Bernstein utilizados en la definición de las curvas de\n",
    "Bézier cúbicas se aprecia que su suma para cualquier valor del parámetro t es la unidad\n",
    "y, además, que todas las polinomiales toman valores comprendidos en el margen\n",
    "$$ O <=t <= 1 $$ . Por tanto, Q(t) resulta ser la media ponderada de los cuatro puntos de\n",
    "control (caso cúbico).\n",
    "En general, cualquier curva de Bézier, sea cual sea el grado de la misma, se define por\n",
    "la suma ponderada de los puntos de control que la diseñan. Esto significa que cada\n",
    "segmento de curva queda definido dentro del espacio convexo de los puntos de control.\n",
    "En el diseño de curvas 2D el espacio convexo es el polígono convexo formado a partir\n",
    "de la unión mediante rectas de los puntos de control. Para curvas 3D el espacio convexo\n",
    "es el poliedro generado por los puntos de control. El conocimiento de este espacio\n",
    "convexo, en el interior del cual queda definida la curva, facilita el estudio de\n",
    "intersecciones entre objetos y la visualización de los mismos por pantalla.\n",
    "Las curvas de Bézier resultan ser las más estables de entre todas las bases polinomiales\n",
    "corrientemente usadas en sistemas CAD. Sin embargo, si la geometría del objeto es muy\n",
    "compleja, se requiere una polinomial de Bézier de un grado tan elevado que la hace\n",
    "intratable (grados de la curva superiores a diez ya no son aconsejables). La solución es\n",
    "diseñar la curva a trozos, mediante la composición de varias curvas de Bézier de grado\n",
    "menor, habitualmente cúbicas."
   ]
  },
  {
   "cell_type": "code",
   "execution_count": null,
   "id": "1bbba092",
   "metadata": {},
   "outputs": [],
   "source": []
  },
  {
   "cell_type": "code",
   "execution_count": null,
   "id": "12d36a1c",
   "metadata": {},
   "outputs": [],
   "source": []
  },
  {
   "cell_type": "code",
   "execution_count": null,
   "id": "1ee9e972",
   "metadata": {},
   "outputs": [],
   "source": []
  },
  {
   "cell_type": "code",
   "execution_count": null,
   "id": "41085481",
   "metadata": {},
   "outputs": [],
   "source": []
  },
  {
   "cell_type": "code",
   "execution_count": null,
   "id": "62e8a8d9",
   "metadata": {},
   "outputs": [],
   "source": []
  },
  {
   "cell_type": "code",
   "execution_count": null,
   "id": "a0b3c5c1",
   "metadata": {},
   "outputs": [],
   "source": []
  }
 ],
 "metadata": {},
 "nbformat": 4,
 "nbformat_minor": 5
}
