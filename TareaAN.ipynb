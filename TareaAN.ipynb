{
 "cells": [
  {
   "cell_type": "code",
   "execution_count": 73,
   "id": "seventh-exhibition",
   "metadata": {},
   "outputs": [],
   "source": [
    "#Imports math para usar factoriales, numpy para usar arreglos calcular su producto punto y matplotlib.pyplot para graficar\n",
    "#las curvas.\n",
    "from sympy import * \n",
    "import math\n",
    "import numpy as np\n",
    "import matplotlib.pyplot as plt"
   ]
  },
  {
   "cell_type": "code",
   "execution_count": 74,
   "id": "secret-kazakhstan",
   "metadata": {},
   "outputs": [],
   "source": [
    "#Se calcula la combinacion sin repetecion de i con n.\n",
    "def combinacion(i, n):\n",
    "    return math.factorial(n) / float(\n",
    "        math.factorial(i) * math.factorial(n - i))"
   ]
  },
  {
   "cell_type": "code",
   "execution_count": 75,
   "id": "quality-point",
   "metadata": {},
   "outputs": [],
   "source": [
    "#Se calcula el polinomio de bernstein mediante su formula.\n",
    "def pol_bernstein(t, i, n):\n",
    "    return combinacion(i, n) * (t)**i * ((1-t)**(n-i))"
   ]
  },
  {
   "cell_type": "code",
   "execution_count": 76,
   "id": "passing-orleans",
   "metadata": {},
   "outputs": [],
   "source": [
    "#Se calcula el rango de puntos para la curva de bezier\n",
    "def curva_bezier(puntos,precision):\n",
    "    n = len(puntos)   #Tamaño del arreglo de tuplas de los puntos de control\n",
    "    \n",
    "    x = np.array([p[0] for p in puntos]) #Se guarda cada valor de la posicion 0(valores de x) de cada tupla en el arreglo puntos\n",
    "    y = np.array([p[1] for p in puntos]) #Se guarda cada valor de la posicion 1(valores de y) de cada tupla en el arreglo puntos\n",
    "    \n",
    "    t = np.linspace(0.0, 1.0, precision)   #Se crea un vector que contiene una cantidad de numeros especificada para una mejor                                   #precision además, todas las polinomiales toman valores entre 0<=t<=1\n",
    "    \n",
    "    pBernstein = np.array([pol_bernstein(t,i, n-1) for i in range(0, n)])   #Se guarda en el arreglo pBernstein el polinomio\n",
    "                                                                           #de bernstein obtenido de pol+bernstein\n",
    "\n",
    "    px = np.dot(x, pBernstein)   #Se hace producto punto de los arreglos x con el polinomio de bernstein \n",
    "    py = np.dot(y, pBernstein)   #Se hace producto punto de los arreglos y con el polinomio de bernstein \n",
    "    \n",
    "    return px, py   #Retorna los arreglos px y py"
   ]
  },
  {
   "cell_type": "code",
   "execution_count": 77,
   "id": "quantitative-differential",
   "metadata": {},
   "outputs": [
    {
     "data": {
      "image/png": "[encoded data removed]",
      "text/plain": [
       "<Figure size 288x504 with 1 Axes>"
      ]
     },
     "metadata": {
      "needs_background": "light"
     },
     "output_type": "display_data"
    }
   ],
   "source": [
    "#Aca se corre el programa.\n",
    "puntos = [(2,15),(1,22),(19,1),(1,32)]    #Se declara un arreglo de tuplas con las coordenadas o puntos de control de bazier\n",
    "x = [p[0] for p in puntos]              #Se guarda cada valor de la posicion 0(valores de x) de cada tupla en el arreglo puntos \n",
    "y = [p[1] for p in puntos]              #Se guarda cada valor de la posicion 1(valores de y) de cada tupla en el arreglo puntos\n",
    "\n",
    "px, py = curva_bezier(puntos, precision=100)  #Se guarda en px y py cada valor del rango de puntos que seguira para la curva \n",
    "                                               #de bezier para ser graficada\n",
    "    \n",
    "plt.figure(figsize=(4, 7))    #Tamaño el plano para graficar\n",
    "plt.plot(px, py,\"b\")              #Con el rango de puntos px y py se dibuja la linea de la curva de bezier \n",
    "plt.plot(x, y, \"ro\")          #Se dibujan los puntos de control de la curva de bezier\n",
    "plt.plot(x, y, \"y--\")          #Se dibuja la linea de puntos que une los puntos de control\n",
    "for punto in range(len(puntos)): #Se identifica cada punto de control con su numero respectivo\n",
    "    plt.text(puntos[punto][0], puntos[punto][1], punto)\n",
    "\n",
    "plt.show() #Se muestra el grafico"
   ]
  },
  {
   "cell_type": "code",
   "execution_count": null,
   "id": "worth-array",
   "metadata": {},
   "outputs": [],
   "source": []
  },
  {
   "cell_type": "code",
   "execution_count": null,
   "id": "phantom-messenger",
   "metadata": {},
   "outputs": [],
   "source": []
  }
 ],
 "metadata": {
  "kernelspec": {
   "display_name": "Python 3",
   "language": "python",
   "name": "python3"
  },
  "language_info": {
   "codemirror_mode": {
    "name": "ipython",
    "version": 3
   },
   "file_extension": ".py",
   "mimetype": "text/x-python",
   "name": "python",
   "nbconvert_exporter": "python",
   "pygments_lexer": "ipython3",
   "version": "3.6.13"
  }
 },
 "nbformat": 4,
 "nbformat_minor": 5
}
